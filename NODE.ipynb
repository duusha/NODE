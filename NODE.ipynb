{
 "cells": [
  {
   "cell_type": "raw",
   "metadata": {},
   "source": [
    "#!pip install torchdiffeq"
   ]
  },
  {
   "cell_type": "code",
   "execution_count": 5,
   "metadata": {},
   "outputs": [],
   "source": [
    "import os\n",
    "import argparse\n",
    "import logging\n",
    "import time\n",
    "import numpy as np\n",
    "import tqdm\n",
    "import torch\n",
    "import torch.nn as nn\n",
    "from torch.utils.data import DataLoader\n",
    "import torchvision.datasets as datasets\n",
    "import torchvision.transforms as transforms"
   ]
  },
  {
   "cell_type": "code",
   "execution_count": 6,
   "metadata": {},
   "outputs": [],
   "source": [
    "args = {'adjoint' : False,\n",
    "        'tol' : 1e-3,\n",
    "        'lr' : 0.1,\n",
    "        'save' : './exp_res_2',\n",
    "        'gpu' : 0,\n",
    "        'network' : 'odenet', \n",
    "        'adjoint' : False,\n",
    "        'downsampling_method' : 'res', \n",
    "        'nepochs' : 20, \n",
    "        'data_aug' : True,\n",
    "        'batch_size' : 128,\n",
    "        'test_batch_size' : 1000,\n",
    "        }"
   ]
  },
  {
   "cell_type": "code",
   "execution_count": 7,
   "metadata": {},
   "outputs": [],
   "source": [
    "if args['adjoint']:\n",
    "    from torchdiffeq import odeint_adjoint as odeint\n",
    "else:\n",
    "    from torchdiffeq import odeint\n",
    "\n",
    "\n",
    "def conv3x3(in_planes, out_planes, stride=1):\n",
    "    \"\"\"3x3 convolution with padding\"\"\"\n",
    "    return nn.Conv2d(in_planes, out_planes, kernel_size=3, stride=stride, padding=1, bias=False)\n",
    "\n",
    "\n",
    "def conv1x1(in_planes, out_planes, stride=1):\n",
    "    \"\"\"1x1 convolution\"\"\"\n",
    "    return nn.Conv2d(in_planes, out_planes, kernel_size=1, stride=stride, bias=False)\n",
    "\n",
    "\n",
    "def norm(dim):\n",
    "    return nn.GroupNorm(min(32, dim), dim)\n",
    "\n",
    "\n",
    "class ResBlock(nn.Module):\n",
    "    expansion = 1\n",
    "\n",
    "    def __init__(self, inplanes, planes, stride=1, downsample=None):\n",
    "        super(ResBlock, self).__init__()\n",
    "        self.norm1 = norm(inplanes)\n",
    "        self.relu = nn.ReLU(inplace=True)\n",
    "        self.downsample = downsample\n",
    "        self.conv1 = conv3x3(inplanes, planes, stride)\n",
    "        self.norm2 = norm(planes)\n",
    "        self.conv2 = conv3x3(planes, planes)\n",
    "\n",
    "    def forward(self, x):\n",
    "        shortcut = x\n",
    "\n",
    "        out = self.relu(self.norm1(x))\n",
    "\n",
    "        if self.downsample is not None:\n",
    "            shortcut = self.downsample(out)\n",
    "\n",
    "        out = self.conv1(out)\n",
    "        out = self.norm2(out)\n",
    "        out = self.relu(out)\n",
    "        out = self.conv2(out)\n",
    "\n",
    "        return out + shortcut\n",
    "\n",
    "\n",
    "class ConcatConv2d(nn.Module):\n",
    "\n",
    "    def __init__(self, dim_in, dim_out, ksize=3, stride=1, padding=0, dilation=1, groups=1, bias=True, transpose=False):\n",
    "        super(ConcatConv2d, self).__init__()\n",
    "        module = nn.ConvTranspose2d if transpose else nn.Conv2d\n",
    "        self._layer = module(\n",
    "            dim_in + 1, dim_out, kernel_size=ksize, stride=stride, padding=padding, dilation=dilation, groups=groups,\n",
    "#             dim_in, dim_out, kernel_size=ksize, stride=stride, padding=padding, dilation=dilation, groups=groups,\n",
    "            bias=bias\n",
    "        )\n",
    "\n",
    "    def forward(self, t, x):\n",
    "#         return self._layer.forward(x)\n",
    "        tt = torch.ones_like(x[:, :1, :, :]) * t\n",
    "        ttx = torch.cat([tt, x], 1) # add time integration to X\n",
    "        return self._layer(ttx)\n",
    "\n",
    "\n",
    "class ODEfunc(nn.Module): # should be rewrite to NODE (KL)\n",
    "\n",
    "    def __init__(self, dim):\n",
    "        super(ODEfunc, self).__init__()\n",
    "        self.norm1 = norm(dim)\n",
    "        self.relu = nn.ReLU(inplace=True)\n",
    "        self.conv1 = ConcatConv2d(dim, dim, 3, 1, 1)\n",
    "        self.norm2 = norm(dim)\n",
    "        self.conv2 = ConcatConv2d(dim, dim, 3, 1, 1)\n",
    "        self.norm3 = norm(dim)\n",
    "        self.nfe = 0\n",
    "\n",
    "    def forward(self, t, x):\n",
    "        self.nfe += 1\n",
    "        out = self.norm1(x)\n",
    "        out = self.relu(out)\n",
    "        out = self.conv1(t, out)\n",
    "        out = self.norm2(out)\n",
    "        out = self.relu(out)\n",
    "        out = self.conv2(t, out)\n",
    "        out = self.norm3(out)\n",
    "        return out\n",
    "    \n",
    "class ODEfunc2(nn.Module): # should be rewrite to NODE (KL)\n",
    "\n",
    "    def __init__(self, dim):\n",
    "        super(ODEfunc2, self).__init__()\n",
    "        self.norm1 = norm(dim)\n",
    "        self.relu = nn.ReLU(inplace=True)\n",
    "        self.conv1 = ConcatConv2d(dim, dim, 3, 1, 1)\n",
    "        self.norm2 = norm(dim)\n",
    "#         self.conv2 = ConcatConv2d(dim, dim // 2, 3, 1, 1)\n",
    "        self.norm3 = norm(dim)\n",
    "#         self.conv3 = ConcatConv2d(dim, dim * 2, 3, 1, 1)\n",
    "        self.nfe = 0\n",
    "\n",
    "    def forward(self, t, x): # differnce with ODEfunc1 forward\n",
    "        self.nfe += 1\n",
    "#         out = self.norm1(x)\n",
    "#         out = self.relu(out)\n",
    "#         out = self.conv1(t, out)\n",
    "#         out = self.norm2(out)\n",
    "#         out = self.relu(out)\n",
    "#         out = self.conv2(t, out)\n",
    "#         out = self.norm3(out)\n",
    "        out = self.norm1(x)\n",
    "        out = self.relu(out)\n",
    "        out = self.conv1(t, out)\n",
    "        out = self.conv1(t, out)\n",
    "        out = self.conv1(t, out)\n",
    "        out = self.relu(out)\n",
    "        out = self.norm1(out)\n",
    "        out = self.conv1(t, out)\n",
    "        out = self.conv1(t, out)\n",
    "        out = self.relu(out)\n",
    "        out = self.norm1(out)\n",
    "        \n",
    "        return out\n",
    "\n",
    "\n",
    "class ODEBlock(nn.Module):\n",
    "\n",
    "    def __init__(self, odefunc):\n",
    "        super(ODEBlock, self).__init__()\n",
    "        self.odefunc = odefunc\n",
    "        self.integration_time = torch.tensor([0, 1]).float()\n",
    "\n",
    "    def forward(self, x):\n",
    "        self.integration_time = self.integration_time.type_as(x)\n",
    "        out = odeint(self.odefunc, x, self.integration_time, rtol=args['tol'], atol=args['tol']) # NODE usage\n",
    "        return out[1]\n",
    "\n",
    "    @property\n",
    "    def nfe(self):\n",
    "        return self.odefunc.nfe\n",
    "\n",
    "    @nfe.setter\n",
    "    def nfe(self, value):\n",
    "        self.odefunc.nfe = value\n",
    "\n",
    "\n",
    "class Flatten(nn.Module):\n",
    "\n",
    "    def __init__(self):\n",
    "        super(Flatten, self).__init__()\n",
    "\n",
    "    def forward(self, x):\n",
    "        shape = torch.prod(torch.tensor(x.shape[1:])).item()\n",
    "        return x.view(-1, shape)\n",
    "\n",
    "\n",
    "class RunningAverageMeter(object):\n",
    "    \"\"\"Computes and stores the average and current value\"\"\"\n",
    "\n",
    "    def __init__(self, momentum=0.99):\n",
    "        self.momentum = momentum\n",
    "        self.reset()\n",
    "\n",
    "    def reset(self):\n",
    "        self.val = None\n",
    "        self.avg = 0\n",
    "\n",
    "    def update(self, val):\n",
    "        if self.val is None:\n",
    "            self.avg = val\n",
    "        else:\n",
    "            self.avg = self.avg * self.momentum + val * (1 - self.momentum)\n",
    "        self.val = val\n"
   ]
  },
  {
   "cell_type": "code",
   "execution_count": 8,
   "metadata": {},
   "outputs": [],
   "source": [
    "def get_mnist_loaders(data_aug=False, batch_size=128, test_batch_size=1000, perc=1.0):\n",
    "    if data_aug:\n",
    "        transform_train = transforms.Compose([\n",
    "            transforms.RandomCrop(28, padding=4),\n",
    "            transforms.ToTensor(),\n",
    "        ])\n",
    "    else:\n",
    "        transform_train = transforms.Compose([\n",
    "            transforms.ToTensor(),\n",
    "        ])\n",
    "\n",
    "    transform_test = transforms.Compose([\n",
    "        transforms.ToTensor(),\n",
    "    ])\n",
    "\n",
    "    train_loader = DataLoader(\n",
    "        datasets.MNIST(root='.data/mnist', train=True, download=True, transform=transform_train), batch_size=batch_size,\n",
    "        shuffle=True, num_workers=2, drop_last=True\n",
    "    )\n",
    "\n",
    "    train_eval_loader = DataLoader(\n",
    "        datasets.MNIST(root='.data/mnist', train=True, download=True, transform=transform_test),\n",
    "        batch_size=test_batch_size, shuffle=False, num_workers=2, drop_last=True\n",
    "    )\n",
    "\n",
    "    test_loader = DataLoader(\n",
    "        datasets.MNIST(root='.data/mnist', train=False, download=True, transform=transform_test),\n",
    "        batch_size=test_batch_size, shuffle=False, num_workers=2, drop_last=True\n",
    "    )\n",
    "\n",
    "    return train_loader, test_loader, train_eval_loader\n",
    "\n",
    "\n",
    "def inf_generator(iterable):\n",
    "    \"\"\"Allows training with DataLoaders in a single infinite loop:\n",
    "        for i, (x, y) in enumerate(inf_generator(train_loader)):\n",
    "    \"\"\"\n",
    "    iterator = iterable.__iter__()\n",
    "    while True:\n",
    "        try:\n",
    "            yield iterator.__next__()\n",
    "        except StopIteration:\n",
    "            iterator = iterable.__iter__()\n",
    "\n",
    "\n",
    "def learning_rate_with_decay(batch_size, batch_denom, batches_per_epoch, boundary_epochs, decay_rates):\n",
    "    initial_learning_rate = args['lr'] * batch_size / batch_denom\n",
    "\n",
    "    boundaries = [int(batches_per_epoch * epoch) for epoch in boundary_epochs]\n",
    "    vals = [initial_learning_rate * decay for decay in decay_rates]\n",
    "\n",
    "    def learning_rate_fn(itr):\n",
    "        lt = [itr < b for b in boundaries] + [True]\n",
    "        i = np.argmax(lt)\n",
    "        return vals[i]\n",
    "\n",
    "    return learning_rate_fn\n",
    "\n",
    "\n",
    "def one_hot(x, K):\n",
    "    return np.array(x[:, None] == np.arange(K)[None, :], dtype=int)\n",
    "\n",
    "\n",
    "def accuracy(model, dataset_loader):\n",
    "    total_correct = 0\n",
    "    for x, y in dataset_loader:\n",
    "        x = x.to(device)\n",
    "        y = one_hot(np.array(y.numpy()), 10)\n",
    "\n",
    "        target_class = np.argmax(y, axis=1)\n",
    "        predicted_class = np.argmax(model(x).cpu().detach().numpy(), axis=1)\n",
    "        total_correct += np.sum(predicted_class == target_class)\n",
    "    return total_correct / len(dataset_loader.dataset)\n",
    "\n",
    "\n",
    "def count_parameters(model):\n",
    "    return sum(p.numel() for p in model.parameters() if p.requires_grad)\n",
    "\n",
    "\n",
    "def makedirs(dirname):\n",
    "    if not os.path.exists(dirname):\n",
    "        os.makedirs(dirname)\n",
    "\n",
    "\n",
    "def get_logger(logpath, filepath, package_files=[], displaying=True, saving=True, debug=False):\n",
    "    logger = logging.getLogger()\n",
    "    if debug:\n",
    "        level = logging.DEBUG\n",
    "    else:\n",
    "        level = logging.INFO\n",
    "    logger.setLevel(level)\n",
    "    if saving:\n",
    "        info_file_handler = logging.FileHandler(logpath, mode=\"a\")\n",
    "        info_file_handler.setLevel(level)\n",
    "        logger.addHandler(info_file_handler)\n",
    "    if displaying:\n",
    "        console_handler = logging.StreamHandler()\n",
    "        console_handler.setLevel(level)\n",
    "        logger.addHandler(console_handler)\n",
    "    logger.info(filepath)\n",
    "    with open(filepath, \"r\") as f:\n",
    "        logger.info(f.read())\n",
    "\n",
    "    for f in package_files:\n",
    "        logger.info(f)\n",
    "        with open(f, \"r\") as package_f:\n",
    "            logger.info(package_f.read())\n",
    "\n",
    "    return logger\n"
   ]
  },
  {
   "cell_type": "code",
   "execution_count": 32,
   "metadata": {
    "scrolled": true
   },
   "outputs": [
    {
     "name": "stderr",
     "output_type": "stream",
     "text": [
      "  0%|                                                                            | 1/620 [20:07<207:32:57, 1207.07s/it]"
     ]
    },
    {
     "name": "stdout",
     "output_type": "stream",
     "text": [
      "Epoch 0000 | Time 6.412 (6.412) | NFE-F 32.0 | NFE-B 0.0 | Train Acc 0.0992 | Test Acc 0.1010\n"
     ]
    },
    {
     "name": "stderr",
     "output_type": "stream",
     "text": [
      "  5%|███▉                                                                         | 32/620 [34:32<36:04:44, 220.89s/it]"
     ]
    },
    {
     "name": "stdout",
     "output_type": "stream",
     "text": [
      "Epoch 0001 | Time 3.813 (14.796) | NFE-F 46.4 | NFE-B 0.0 | Train Acc 0.1157 | Test Acc 0.1157\n"
     ]
    },
    {
     "name": "stderr",
     "output_type": "stream",
     "text": [
      " 10%|███████▊                                                                     | 63/620 [48:40<34:31:46, 223.17s/it]"
     ]
    },
    {
     "name": "stdout",
     "output_type": "stream",
     "text": [
      "Epoch 0002 | Time 3.861 (17.188) | NFE-F 49.7 | NFE-B 0.0 | Train Acc 0.5796 | Test Acc 0.5861\n"
     ]
    },
    {
     "name": "stderr",
     "output_type": "stream",
     "text": [
      " 15%|███████████▎                                                               | 94/620 [1:05:04<37:20:33, 255.58s/it]"
     ]
    },
    {
     "name": "stdout",
     "output_type": "stream",
     "text": [
      "Epoch 0003 | Time 4.423 (19.275) | NFE-F 52.1 | NFE-B 0.0 | Train Acc 0.5991 | Test Acc 0.5932\n"
     ]
    },
    {
     "name": "stderr",
     "output_type": "stream",
     "text": [
      " 20%|██████████████▉                                                           | 125/620 [1:21:30<35:30:50, 258.28s/it]"
     ]
    },
    {
     "name": "stdout",
     "output_type": "stream",
     "text": [
      "Epoch 0004 | Time 4.427 (21.504) | NFE-F 53.8 | NFE-B 0.0 | Train Acc 0.7526 | Test Acc 0.7514\n"
     ]
    },
    {
     "name": "stderr",
     "output_type": "stream",
     "text": [
      " 25%|██████████████████▌                                                       | 156/620 [1:38:34<34:26:57, 267.28s/it]"
     ]
    },
    {
     "name": "stdout",
     "output_type": "stream",
     "text": [
      "Epoch 0005 | Time 4.828 (23.293) | NFE-F 55.1 | NFE-B 0.0 | Train Acc 0.7683 | Test Acc 0.7761\n"
     ]
    },
    {
     "name": "stderr",
     "output_type": "stream",
     "text": [
      " 30%|██████████████████████▎                                                   | 187/620 [1:55:06<30:53:58, 256.90s/it]"
     ]
    },
    {
     "name": "stdout",
     "output_type": "stream",
     "text": [
      "Epoch 0006 | Time 4.728 (24.846) | NFE-F 56.1 | NFE-B 0.0 | Train Acc 0.8813 | Test Acc 0.8827\n"
     ]
    },
    {
     "name": "stderr",
     "output_type": "stream",
     "text": [
      " 35%|██████████████████████████                                                | 218/620 [2:10:56<27:37:34, 247.40s/it]"
     ]
    },
    {
     "name": "stdout",
     "output_type": "stream",
     "text": [
      "Epoch 0007 | Time 4.477 (25.615) | NFE-F 56.9 | NFE-B 0.0 | Train Acc 0.9339 | Test Acc 0.9381\n"
     ]
    },
    {
     "name": "stderr",
     "output_type": "stream",
     "text": [
      " 40%|█████████████████████████████▋                                            | 249/620 [2:26:33<25:06:09, 243.58s/it]"
     ]
    },
    {
     "name": "stdout",
     "output_type": "stream",
     "text": [
      "Epoch 0008 | Time 4.458 (25.959) | NFE-F 57.4 | NFE-B 0.0 | Train Acc 0.9237 | Test Acc 0.9294\n"
     ]
    },
    {
     "name": "stderr",
     "output_type": "stream",
     "text": [
      " 45%|█████████████████████████████████▍                                        | 280/620 [2:40:07<20:10:26, 213.61s/it]"
     ]
    },
    {
     "name": "stdout",
     "output_type": "stream",
     "text": [
      "Epoch 0009 | Time 3.587 (25.888) | NFE-F 58.0 | NFE-B 0.0 | Train Acc 0.9536 | Test Acc 0.9612\n"
     ]
    },
    {
     "name": "stderr",
     "output_type": "stream",
     "text": [
      " 50%|█████████████████████████████████████                                     | 311/620 [2:53:34<18:10:03, 211.66s/it]"
     ]
    },
    {
     "name": "stdout",
     "output_type": "stream",
     "text": [
      "Epoch 0010 | Time 3.774 (25.119) | NFE-F 58.2 | NFE-B 0.0 | Train Acc 0.9497 | Test Acc 0.9550\n"
     ]
    },
    {
     "name": "stderr",
     "output_type": "stream",
     "text": [
      " 55%|████████████████████████████████████████▊                                 | 342/620 [3:07:03<16:21:05, 211.75s/it]"
     ]
    },
    {
     "name": "stdout",
     "output_type": "stream",
     "text": [
      "Epoch 0011 | Time 3.638 (24.519) | NFE-F 58.4 | NFE-B 0.0 | Train Acc 0.9431 | Test Acc 0.9522\n"
     ]
    },
    {
     "name": "stderr",
     "output_type": "stream",
     "text": [
      " 60%|████████████████████████████████████████████▌                             | 373/620 [3:20:30<14:30:15, 211.40s/it]"
     ]
    },
    {
     "name": "stdout",
     "output_type": "stream",
     "text": [
      "Epoch 0012 | Time 3.583 (24.077) | NFE-F 58.5 | NFE-B 0.0 | Train Acc 0.9612 | Test Acc 0.9674\n"
     ]
    },
    {
     "name": "stderr",
     "output_type": "stream",
     "text": [
      " 65%|████████████████████████████████████████████████▏                         | 404/620 [3:34:08<12:51:43, 214.37s/it]"
     ]
    },
    {
     "name": "stdout",
     "output_type": "stream",
     "text": [
      "Epoch 0013 | Time 3.658 (23.749) | NFE-F 58.7 | NFE-B 0.0 | Train Acc 0.9445 | Test Acc 0.9479\n"
     ]
    },
    {
     "name": "stderr",
     "output_type": "stream",
     "text": [
      " 70%|███████████████████████████████████████████████████▉                      | 435/620 [3:47:51<11:08:00, 216.65s/it]"
     ]
    },
    {
     "name": "stdout",
     "output_type": "stream",
     "text": [
      "Epoch 0014 | Time 3.771 (23.568) | NFE-F 58.8 | NFE-B 0.0 | Train Acc 0.9732 | Test Acc 0.9765\n"
     ]
    },
    {
     "name": "stderr",
     "output_type": "stream",
     "text": [
      " 75%|████████████████████████████████████████████████████████▎                  | 466/620 [4:02:03<9:37:07, 224.86s/it]"
     ]
    },
    {
     "name": "stdout",
     "output_type": "stream",
     "text": [
      "Epoch 0015 | Time 3.610 (23.494) | NFE-F 59.0 | NFE-B 0.0 | Train Acc 0.9700 | Test Acc 0.9740\n"
     ]
    },
    {
     "name": "stderr",
     "output_type": "stream",
     "text": [
      " 80%|████████████████████████████████████████████████████████████               | 497/620 [4:16:42<7:48:37, 228.60s/it]"
     ]
    },
    {
     "name": "stdout",
     "output_type": "stream",
     "text": [
      "Epoch 0016 | Time 3.690 (23.778) | NFE-F 59.0 | NFE-B 0.0 | Train Acc 0.9540 | Test Acc 0.9559\n"
     ]
    },
    {
     "name": "stderr",
     "output_type": "stream",
     "text": [
      " 85%|███████████████████████████████████████████████████████████████▊           | 528/620 [4:30:36<5:33:52, 217.74s/it]"
     ]
    },
    {
     "name": "stdout",
     "output_type": "stream",
     "text": [
      "Epoch 0017 | Time 3.778 (24.001) | NFE-F 58.9 | NFE-B 0.0 | Train Acc 0.9653 | Test Acc 0.9697\n"
     ]
    },
    {
     "name": "stderr",
     "output_type": "stream",
     "text": [
      " 90%|███████████████████████████████████████████████████████████████████▌       | 559/620 [4:44:07<3:35:43, 212.19s/it]"
     ]
    },
    {
     "name": "stdout",
     "output_type": "stream",
     "text": [
      "Epoch 0018 | Time 3.654 (23.850) | NFE-F 58.8 | NFE-B 0.0 | Train Acc 0.9787 | Test Acc 0.9827\n"
     ]
    },
    {
     "name": "stderr",
     "output_type": "stream",
     "text": [
      " 95%|███████████████████████████████████████████████████████████████████████▎   | 590/620 [4:57:43<1:47:11, 214.37s/it]"
     ]
    },
    {
     "name": "stdout",
     "output_type": "stream",
     "text": [
      "Epoch 0019 | Time 3.751 (23.594) | NFE-F 58.9 | NFE-B 0.0 | Train Acc 0.9716 | Test Acc 0.9727\n"
     ]
    },
    {
     "name": "stderr",
     "output_type": "stream",
     "text": [
      "100%|██████████████████████████████████████████████████████████████████████████████| 620/620 [4:59:36<00:00, 28.99s/it]\n"
     ]
    }
   ],
   "source": [
    "\n",
    "if __name__ == '__main__':\n",
    "    makedirs(args['save'])\n",
    "#     logger = get_logger(logpath=os.path.join(args['save'], 'logs'), filepath=os.path.abspath(__file__))\n",
    "    logger = logging.getLogger()\n",
    "    logger.info(args)\n",
    "\n",
    "    device = torch.device('cuda:' + str(args['gpu']) if torch.cuda.is_available() else 'cpu')\n",
    "\n",
    "    is_odenet = args['network'] == 'odenet'\n",
    "\n",
    "    if args['downsampling_method'] == 'conv':\n",
    "        downsampling_layers = [\n",
    "            nn.Conv2d(1, 64, 3, 1),\n",
    "            norm(64),\n",
    "            nn.ReLU(inplace=True),\n",
    "            nn.Conv2d(64, 64, 4, 2, 1),\n",
    "            norm(64),\n",
    "            nn.ReLU(inplace=True),\n",
    "            nn.Conv2d(64, 64, 4, 2, 1),\n",
    "        ]\n",
    "    elif args['downsampling_method'] == 'res':\n",
    "        downsampling_layers = [\n",
    "            nn.Conv2d(1, 64, 3, 1),\n",
    "            ResBlock(64, 64, stride=2, downsample=conv1x1(64, 64, 2)),\n",
    "            ResBlock(64, 64, stride=2, downsample=conv1x1(64, 64, 2)),\n",
    "        ]\n",
    "\n",
    "    feature_layers = [ODEBlock(ODEfunc2(64))] if is_odenet else [ResBlock(64, 64) for _ in range(6)]\n",
    "    fc_layers = [norm(64), nn.ReLU(inplace=True), nn.AdaptiveAvgPool2d((1, 1)), Flatten(), nn.Linear(64, 10)]\n",
    "\n",
    "    model = nn.Sequential(*downsampling_layers, *feature_layers, *fc_layers).to(device)\n",
    "\n",
    "    logger.info(model)\n",
    "    logger.info('Number of parameters: {}'.format(count_parameters(model)))\n",
    "\n",
    "    criterion = nn.CrossEntropyLoss().to(device)\n",
    "\n",
    "    train_loader, test_loader, train_eval_loader = get_mnist_loaders(\n",
    "        args['data_aug'], args['batch_size'], args['test_batch_size']\n",
    "    )\n",
    "\n",
    "    data_gen = inf_generator(train_loader)\n",
    "    batches_per_epoch = int(len(train_loader) / 15)\n",
    "\n",
    "    lr_fn = learning_rate_with_decay(\n",
    "        args['batch_size'], batch_denom=128, batches_per_epoch=batches_per_epoch, boundary_epochs=[60, 100, 140],\n",
    "        decay_rates=[1, 0.1, 0.01, 0.001]\n",
    "    )\n",
    "\n",
    "    optimizer = torch.optim.SGD(model.parameters(), lr=args['lr'], momentum=0.9)\n",
    "\n",
    "    best_acc = 0\n",
    "    batch_time_meter = RunningAverageMeter()\n",
    "    f_nfe_meter = RunningAverageMeter()\n",
    "    b_nfe_meter = RunningAverageMeter()\n",
    "    end = time.time()\n",
    "\n",
    "    epochs_res = []\n",
    "    time_work_res = []\n",
    "    NFEf_res = []\n",
    "    NFEb_res = []\n",
    "    train_accs_res = []\n",
    "    test_accs_res = []\n",
    "    for itr in tqdm.tqdm(range(args['nepochs'] * batches_per_epoch)):\n",
    "\n",
    "        for param_group in optimizer.param_groups:\n",
    "            param_group['lr'] = lr_fn(itr)\n",
    "\n",
    "        optimizer.zero_grad()\n",
    "        x, y = data_gen.__next__()\n",
    "        x = x.to(device)\n",
    "        y = y.to(device)\n",
    "        logits = model(x)\n",
    "        loss = criterion(logits, y)\n",
    "\n",
    "        if is_odenet:\n",
    "            nfe_forward = feature_layers[0].nfe\n",
    "            feature_layers[0].nfe = 0\n",
    "\n",
    "        loss.backward()\n",
    "        optimizer.step()\n",
    "\n",
    "        if is_odenet:\n",
    "            nfe_backward = feature_layers[0].nfe\n",
    "            feature_layers[0].nfe = 0\n",
    "\n",
    "        batch_time_meter.update(time.time() - end)\n",
    "        if is_odenet:\n",
    "            f_nfe_meter.update(nfe_forward)\n",
    "            b_nfe_meter.update(nfe_backward)\n",
    "        end = time.time()\n",
    "\n",
    "        \n",
    "        \n",
    "        if itr % batches_per_epoch == 0:\n",
    "            with torch.no_grad():\n",
    "                train_acc = accuracy(model, train_eval_loader)\n",
    "                val_acc = accuracy(model, test_loader)\n",
    "                if val_acc > best_acc:\n",
    "                    torch.save(model.state_dict(), os.path.join(args['save'], 'model.pt'))\n",
    "                    best_acc = val_acc\n",
    "                logger.info(\n",
    "                    \"Epoch {:04d} | Time {:.3f} ({:.3f}) | NFE-F {:.1f} | NFE-B {:.1f} | \"\n",
    "                    \"Train Acc {:.4f} | Test Acc {:.4f}\".format(\n",
    "                        itr // batches_per_epoch, batch_time_meter.val, batch_time_meter.avg, f_nfe_meter.avg,\n",
    "                        b_nfe_meter.avg, train_acc, val_acc\n",
    "                    )\n",
    "                )\n",
    "                print(\"Epoch {:04d} | Time {:.3f} ({:.3f}) | NFE-F {:.1f} | NFE-B {:.1f} | \"\n",
    "                    \"Train Acc {:.4f} | Test Acc {:.4f}\".format(\n",
    "                        itr // batches_per_epoch, batch_time_meter.val, batch_time_meter.avg, f_nfe_meter.avg,\n",
    "                        b_nfe_meter.avg, train_acc, val_acc\n",
    "                    )\n",
    "                )\n",
    "                epochs_res.append(itr // batches_per_epoch)\n",
    "                time_work_res.append(batch_time_meter.val)\n",
    "                NFEf_res.append(f_nfe_meter.avg)\n",
    "                NFEb_res.append(b_nfe_meter.avg)\n",
    "                train_accs_res.append(train_acc)\n",
    "                test_accs_res.append(val_acc)\n",
    "#             test_model = nn.Sequential(*downsampling_layers, *feature_layers, *fc_layers).to(device)\n",
    "#             test_model.load_state_dict(torch.load(os.path.join(args['save'], 'model.pt')))\n",
    "                                                  "
   ]
  },
  {
   "cell_type": "code",
   "execution_count": 5,
   "metadata": {},
   "outputs": [
    {
     "data": {
      "text/plain": [
       "<matplotlib.legend.Legend at 0x1ef1c55daf0>"
      ]
     },
     "execution_count": 5,
     "metadata": {},
     "output_type": "execute_result"
    },
    {
     "data": {
      "image/png": "[encoded data removed]",
      "text/plain": [
       "<Figure size 1152x576 with 1 Axes>"
      ]
     },
     "metadata": {
      "needs_background": "light"
     },
     "output_type": "display_data"
    }
   ],
   "source": [
    "epoches = range(20)\n",
    "train_accs = [0.1585 ,0.0987, 0.1745 , 0.2863, 0.3137, 0.4390 , 0.4413, 0.7333 , 0.7760, 0.8235 , 0.9193, 0.9019, 0.9117, 0.9231, 0.9483 , 0.9467, 0.9454, 0.9538, 0.9342 , 0.9412 ]\n",
    "test_accs = [0.1578,0.0980, 0.1717, 0.2930, 0.3101, 0.4329, 0.4433, 0.7459, 0.7760, 0.8250, 0.9295, 0.9121, 0.9220, 0.9309, 0.9544, 0.9516, 0.9520, 0.9570, 0.9427, 0.9511 ]\n",
    "import matplotlib.pyplot as plt\n",
    "fig = plt.figure(figsize = (16, 8))\n",
    "ax = plt.axes()\n",
    "plt.title(\"Train and test accuracies\")\n",
    "plt.xlabel('Epoches')\n",
    "plt.ylabel(\"Accuracy\")\n",
    "plt.plot(epoches, train_accs, label = \"train\")\n",
    "plt.plot(epoches, test_accs, label = \"test\")\n",
    "plt.legend()\n"
   ]
  },
  {
   "cell_type": "code",
   "execution_count": 20,
   "metadata": {},
   "outputs": [
    {
     "name": "stdout",
     "output_type": "stream",
     "text": [
      "Best test accuracy on Conv version: 0.957\n"
     ]
    }
   ],
   "source": [
    "print(\"Best test accuracy on Conv version:\", max(test_accs))"
   ]
  },
  {
   "cell_type": "code",
   "execution_count": 21,
   "metadata": {},
   "outputs": [
    {
     "data": {
      "text/plain": [
       "<matplotlib.legend.Legend at 0x1ef1dde7e20>"
      ]
     },
     "execution_count": 21,
     "metadata": {},
     "output_type": "execute_result"
    },
    {
     "data": {
      "image/png": "[encoded data removed]",
      "text/plain": [
       "<Figure size 1152x576 with 1 Axes>"
      ]
     },
     "metadata": {
      "needs_background": "light"
     },
     "output_type": "display_data"
    }
   ],
   "source": [
    "train_accs_res_1 = [0.1022 , 0.2955 , 0.5553 ,0.8244 , 0.8479 , 0.9257 , 0.9474 ,0.9227 , 0.9519,0.9686 ,0.9745 , 0.9665 ,0.9665, 0.9750 , 0.9778 ,0.9625 , 0.9730 , 0.9843 , 0.9853 , 0.9794   ]\n",
    "test_accs_res_1 = [0.1010, 0.2959,0.5552,0.8281, 0.8547,0.9327,0.9494, 0.9278,0.9560, 0.9710, 0.9772,0.9673,0.9661,0.9765,0.9778,  0.9675,0.9738,0.9837,0.9837,0.9868,0.9793 ]\n",
    "fig = plt.figure(figsize = (16, 8))\n",
    "ax = plt.axes()\n",
    "plt.title(\"Train and test accuracies\")\n",
    "plt.xlabel('Epoches')\n",
    "plt.ylabel(\"Accuracy\")\n",
    "plt.plot(epoches, train_accs_res_1, label = \"train\")\n",
    "plt.plot(epoches, test_accs_res_1, label = \"test\")\n",
    "plt.legend()\n",
    "\n"
   ]
  },
  {
   "cell_type": "code",
   "execution_count": 23,
   "metadata": {},
   "outputs": [
    {
     "name": "stdout",
     "output_type": "stream",
     "text": [
      "Best test accuracy on RNN: 0.9868\n"
     ]
    }
   ],
   "source": [
    "\n",
    "print(\"Best test accuracy on RNN:\", max(test_accs_res))"
   ]
  },
  {
   "cell_type": "code",
   "execution_count": 2,
   "metadata": {},
   "outputs": [
    {
     "data": {
      "text/plain": [
       "<matplotlib.legend.Legend at 0x1b4d5d94430>"
      ]
     },
     "execution_count": 2,
     "metadata": {},
     "output_type": "execute_result"
    },
    {
     "data": {
      "image/png": "[encoded data removed]",
      "text/plain": [
       "<Figure size 1152x576 with 1 Axes>"
      ]
     },
     "metadata": {
      "needs_background": "light"
     },
     "output_type": "display_data"
    }
   ],
   "source": [
    "epoches = range(20)\n",
    "train_accs_res = [0.0992 , 0.1157 , 0.5796 , 0.5991 , 0.7526 , 0.7683 ,0.8813 ,0.9339 ,0.9237 ,0.9536 , 0.9497 ,0.9431 , 0.9612 , 0.9445 ,0.9732 , 0.9700 ,0.9540 ,0.9653,0.9787 ,0.9716 ]\n",
    "test_accs_res = [0.1010, 0.1157, 0.5861, 0.5932, 0.7514, 0.7761, 0.8827,0.9381,0.9294,0.9612,0.9550, 0.9522,0.9674,0.9479,0.9765,0.9740,0.9559,0.9697,0.9827,0.9727]\n",
    "import matplotlib.pyplot as plt\n",
    "fig = plt.figure(figsize = (16, 8))\n",
    "ax = plt.axes()\n",
    "plt.title(\"Train and test accuracies\")\n",
    "plt.xlabel('Epoches')\n",
    "plt.ylabel(\"Accuracy\")\n",
    "plt.plot(epoches, train_accs_res, label = \"train\")\n",
    "plt.plot(epoches, test_accs_res, label = \"test\")\n",
    "plt.legend()\n"
   ]
  },
  {
   "cell_type": "code",
   "execution_count": 3,
   "metadata": {},
   "outputs": [
    {
     "name": "stdout",
     "output_type": "stream",
     "text": [
      "BEST TEST ACCURACY ON RES-FUNC2: 0.9827\n"
     ]
    }
   ],
   "source": [
    "print(\"BEST TEST ACCURACY ON RES-FUNC2:\", max(test_accs_res))"
   ]
  },
  {
   "cell_type": "code",
   "execution_count": 10,
   "metadata": {},
   "outputs": [
    {
     "name": "stdout",
     "output_type": "stream",
     "text": [
      "Sequential(\n",
      "  (0): Conv2d(1, 64, kernel_size=(3, 3), stride=(1, 1))\n",
      "  (1): ResBlock(\n",
      "    (norm1): GroupNorm(32, 64, eps=1e-05, affine=True)\n",
      "    (relu): ReLU(inplace=True)\n",
      "    (downsample): Conv2d(64, 64, kernel_size=(1, 1), stride=(2, 2), bias=False)\n",
      "    (conv1): Conv2d(64, 64, kernel_size=(3, 3), stride=(2, 2), padding=(1, 1), bias=False)\n",
      "    (norm2): GroupNorm(32, 64, eps=1e-05, affine=True)\n",
      "    (conv2): Conv2d(64, 64, kernel_size=(3, 3), stride=(1, 1), padding=(1, 1), bias=False)\n",
      "  )\n",
      "  (2): ResBlock(\n",
      "    (norm1): GroupNorm(32, 64, eps=1e-05, affine=True)\n",
      "    (relu): ReLU(inplace=True)\n",
      "    (downsample): Conv2d(64, 64, kernel_size=(1, 1), stride=(2, 2), bias=False)\n",
      "    (conv1): Conv2d(64, 64, kernel_size=(3, 3), stride=(2, 2), padding=(1, 1), bias=False)\n",
      "    (norm2): GroupNorm(32, 64, eps=1e-05, affine=True)\n",
      "    (conv2): Conv2d(64, 64, kernel_size=(3, 3), stride=(1, 1), padding=(1, 1), bias=False)\n",
      "  )\n",
      "  (3): ODEBlock(\n",
      "    (odefunc): ODEfunc(\n",
      "      (norm1): GroupNorm(32, 64, eps=1e-05, affine=True)\n",
      "      (relu): ReLU(inplace=True)\n",
      "      (conv1): ConcatConv2d(\n",
      "        (_layer): Conv2d(65, 64, kernel_size=(3, 3), stride=(1, 1), padding=(1, 1))\n",
      "      )\n",
      "      (norm2): GroupNorm(32, 64, eps=1e-05, affine=True)\n",
      "      (conv2): ConcatConv2d(\n",
      "        (_layer): Conv2d(65, 64, kernel_size=(3, 3), stride=(1, 1), padding=(1, 1))\n",
      "      )\n",
      "      (norm3): GroupNorm(32, 64, eps=1e-05, affine=True)\n",
      "    )\n",
      "  )\n",
      "  (4): GroupNorm(32, 64, eps=1e-05, affine=True)\n",
      "  (5): ReLU(inplace=True)\n",
      "  (6): AdaptiveAvgPool2d(output_size=(1, 1))\n",
      "  (7): Flatten()\n",
      "  (8): Linear(in_features=64, out_features=10, bias=True)\n",
      ")\n"
     ]
    }
   ],
   "source": [
    "is_odenet = args['network'] == 'odenet'\n",
    "device = torch.device('cuda:' + str(args['gpu']) if torch.cuda.is_available() else 'cpu')\n",
    "if args['downsampling_method'] == 'res':\n",
    "        downsampling_layers = [\n",
    "            nn.Conv2d(1, 64, 3, 1),\n",
    "            ResBlock(64, 64, stride=2, downsample=conv1x1(64, 64, 2)),\n",
    "            ResBlock(64, 64, stride=2, downsample=conv1x1(64, 64, 2)),\n",
    "        ]\n",
    "\n",
    "feature_layers = [ODEBlock(ODEfunc2(64))] if is_odenet else [ResBlock(64, 64) for _ in range(6)]\n",
    "fc_layers = [norm(64), nn.ReLU(inplace=True), nn.AdaptiveAvgPool2d((1, 1)), Flatten(), nn.Linear(64, 10)]\n",
    "\n",
    "model = nn.Sequential(*downsampling_layers, *feature_layers, *fc_layers).to(device)\n",
    "\n",
    "print(model)"
   ]
  },
  {
   "cell_type": "code",
   "execution_count": null,
   "metadata": {},
   "outputs": [],
   "source": []
  }
 ],
 "metadata": {
  "kernelspec": {
   "display_name": "Python 3",
   "language": "python",
   "name": "python3"
  },
  "language_info": {
   "codemirror_mode": {
    "name": "ipython",
    "version": 3
   },
   "file_extension": ".py",
   "mimetype": "text/x-python",
   "name": "python",
   "nbconvert_exporter": "python",
   "pygments_lexer": "ipython3",
   "version": "3.8.5"
  }
 },
 "nbformat": 4,
 "nbformat_minor": 2
}
